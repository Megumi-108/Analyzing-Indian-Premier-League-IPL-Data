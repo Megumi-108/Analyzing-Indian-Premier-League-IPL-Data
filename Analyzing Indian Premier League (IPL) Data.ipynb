import pandas as pd
import matplotlib.pyplot as plt
import seaborn as sns

# Custom Dataset (expanded version of your sample)
data = {
    'season': [2023, 2023, 2023, 2022, 2022, 2022, 2021, 2021, 2021],
    'team1': ['MI', 'CSK', 'RCB', 'MI', 'KKR', 'CSK', 'DC', 'RCB', 'MI'],
    'team2': ['CSK', 'RCB', 'MI', 'KKR', 'CSK', 'MI', 'MI', 'CSK', 'KKR'],
    'winner': ['MI', 'CSK', 'MI', 'MI', 'KKR', 'CSK', 'DC', 'RCB', 'MI'],
    'city': ['Mumbai', 'Chennai', 'Bangalore', 'Kolkata', 'Chennai', 'Mumbai', 'Delhi', 'Bangalore', 'Kolkata'],
    'player_of_match': ['Rohit Sharma', 'MS Dhoni', 'Virat Kohli', 'Jasprit Bumrah', 'Andre Russell', 'Ravindra Jadeja', 'Rishabh Pant', 'AB de Villiers', 'Kieron Pollard'],
    'runs_scored': [180, 180, 175, 150, 200, 190, 170, 185, 165],
}

ipl_df = pd.DataFrame(data)

# Task 1: Basic Data Exploration
print("First 5 rows:\n", ipl_df.head())
print("\nData Summary:\n", ipl_df.info())
print("\nDescriptive Stats:\n", ipl_df.describe())

# Task 2: Team Performance (Wins by City)
wins_by_city = ipl_df.groupby('city')['winner'].value_counts().unstack().fillna(0)
print("\nWins by City:\n", wins_by_city)

# Task 3: Top 3 "Player of the Match"
top_players = ipl_df['player_of_match'].value_counts().head(3)
print("\nTop 3 Players:\n", top_players)

# Task 4: Highest Runs in a Match
max_runs = ipl_df['runs_scored'].max()
print("\nHighest Runs in a Match:", max_runs)

# Task 5: Visualizations
plt.figure(figsize=(10, 4))
sns.barplot(x=wins_by_city.index, y=wins_by_city['MI'], label='MI')
sns.barplot(x=wins_by_city.index, y=wins_by_city['CSK'], label='CSK')
plt.title('MI vs CSK Wins by City')
plt.xlabel('City')
plt.ylabel('Wins')
plt.legend()
plt.show()

plt.hist(ipl_df['runs_scored'], bins=5, edgecolor='black')
plt.title('Distribution of Runs Scored')
plt.xlabel('Runs')
plt.ylabel('Frequency')
plt.show()
